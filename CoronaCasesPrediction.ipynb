{
 "cells": [
  {
   "cell_type": "code",
   "execution_count": 3,
   "metadata": {},
   "outputs": [],
   "source": [
    "import numpy as np\n",
    "import pandas as pd\n",
    "import matplotlib.pyplot as plt"
   ]
  },
  {
   "cell_type": "code",
   "execution_count": 4,
   "metadata": {},
   "outputs": [
    {
     "name": "stderr",
     "output_type": "stream",
     "text": [
      "C:\\Users\\Subhajit\\anaconda3\\lib\\site-packages\\IPython\\core\\interactiveshell.py:3071: DtypeWarning: Columns (3) have mixed types.Specify dtype option on import or set low_memory=False.\n",
      "  has_raised = await self.run_ast_nodes(code_ast.body, cell_name,\n"
     ]
    },
    {
     "data": {
      "text/html": [
       "<div>\n",
       "<style scoped>\n",
       "    .dataframe tbody tr th:only-of-type {\n",
       "        vertical-align: middle;\n",
       "    }\n",
       "\n",
       "    .dataframe tbody tr th {\n",
       "        vertical-align: top;\n",
       "    }\n",
       "\n",
       "    .dataframe thead th {\n",
       "        text-align: right;\n",
       "    }\n",
       "</style>\n",
       "<table border=\"1\" class=\"dataframe\">\n",
       "  <thead>\n",
       "    <tr style=\"text-align: right;\">\n",
       "      <th></th>\n",
       "      <th>Unnamed: 0</th>\n",
       "      <th>Num Cases</th>\n",
       "      <th>Date Announced</th>\n",
       "      <th>Age Bracket</th>\n",
       "      <th>Gender</th>\n",
       "      <th>Detected City</th>\n",
       "      <th>Detected District</th>\n",
       "      <th>Detected State</th>\n",
       "      <th>Current Status</th>\n",
       "      <th>Day</th>\n",
       "      <th>Month</th>\n",
       "      <th>Year</th>\n",
       "    </tr>\n",
       "  </thead>\n",
       "  <tbody>\n",
       "    <tr>\n",
       "      <th>0</th>\n",
       "      <td>0</td>\n",
       "      <td>1.0</td>\n",
       "      <td>30-01-2020</td>\n",
       "      <td>20</td>\n",
       "      <td>F</td>\n",
       "      <td>Thrissur</td>\n",
       "      <td>Thrissur</td>\n",
       "      <td>Kerala</td>\n",
       "      <td>Recovered</td>\n",
       "      <td>30.0</td>\n",
       "      <td>1.0</td>\n",
       "      <td>2020.0</td>\n",
       "    </tr>\n",
       "    <tr>\n",
       "      <th>1</th>\n",
       "      <td>1</td>\n",
       "      <td>1.0</td>\n",
       "      <td>02-02-2020</td>\n",
       "      <td>NaN</td>\n",
       "      <td>NaN</td>\n",
       "      <td>Alappuzha</td>\n",
       "      <td>Alappuzha</td>\n",
       "      <td>Kerala</td>\n",
       "      <td>Recovered</td>\n",
       "      <td>2.0</td>\n",
       "      <td>2.0</td>\n",
       "      <td>2020.0</td>\n",
       "    </tr>\n",
       "    <tr>\n",
       "      <th>2</th>\n",
       "      <td>2</td>\n",
       "      <td>1.0</td>\n",
       "      <td>03-02-2020</td>\n",
       "      <td>NaN</td>\n",
       "      <td>NaN</td>\n",
       "      <td>Kasaragod</td>\n",
       "      <td>Kasaragod</td>\n",
       "      <td>Kerala</td>\n",
       "      <td>Recovered</td>\n",
       "      <td>3.0</td>\n",
       "      <td>2.0</td>\n",
       "      <td>2020.0</td>\n",
       "    </tr>\n",
       "    <tr>\n",
       "      <th>3</th>\n",
       "      <td>3</td>\n",
       "      <td>1.0</td>\n",
       "      <td>02-03-2020</td>\n",
       "      <td>45</td>\n",
       "      <td>M</td>\n",
       "      <td>East Delhi (Mayur Vihar)</td>\n",
       "      <td>East Delhi</td>\n",
       "      <td>Delhi</td>\n",
       "      <td>Recovered</td>\n",
       "      <td>2.0</td>\n",
       "      <td>3.0</td>\n",
       "      <td>2020.0</td>\n",
       "    </tr>\n",
       "    <tr>\n",
       "      <th>4</th>\n",
       "      <td>4</td>\n",
       "      <td>1.0</td>\n",
       "      <td>02-03-2020</td>\n",
       "      <td>24</td>\n",
       "      <td>M</td>\n",
       "      <td>Hyderabad</td>\n",
       "      <td>Hyderabad</td>\n",
       "      <td>Telangana</td>\n",
       "      <td>Recovered</td>\n",
       "      <td>2.0</td>\n",
       "      <td>3.0</td>\n",
       "      <td>2020.0</td>\n",
       "    </tr>\n",
       "    <tr>\n",
       "      <th>...</th>\n",
       "      <td>...</td>\n",
       "      <td>...</td>\n",
       "      <td>...</td>\n",
       "      <td>...</td>\n",
       "      <td>...</td>\n",
       "      <td>...</td>\n",
       "      <td>...</td>\n",
       "      <td>...</td>\n",
       "      <td>...</td>\n",
       "      <td>...</td>\n",
       "      <td>...</td>\n",
       "      <td>...</td>\n",
       "    </tr>\n",
       "    <tr>\n",
       "      <th>380314</th>\n",
       "      <td>27281</td>\n",
       "      <td>2.0</td>\n",
       "      <td>26-10-2020</td>\n",
       "      <td>NaN</td>\n",
       "      <td>NaN</td>\n",
       "      <td>NaN</td>\n",
       "      <td>Dimapur</td>\n",
       "      <td>Nagaland</td>\n",
       "      <td>Deceased</td>\n",
       "      <td>26.0</td>\n",
       "      <td>10.0</td>\n",
       "      <td>2020.0</td>\n",
       "    </tr>\n",
       "    <tr>\n",
       "      <th>380315</th>\n",
       "      <td>27282</td>\n",
       "      <td>4.0</td>\n",
       "      <td>26-10-2020</td>\n",
       "      <td>NaN</td>\n",
       "      <td>NaN</td>\n",
       "      <td>NaN</td>\n",
       "      <td>Mon</td>\n",
       "      <td>Nagaland</td>\n",
       "      <td>Recovered</td>\n",
       "      <td>26.0</td>\n",
       "      <td>10.0</td>\n",
       "      <td>2020.0</td>\n",
       "    </tr>\n",
       "    <tr>\n",
       "      <th>380316</th>\n",
       "      <td>27283</td>\n",
       "      <td>14.0</td>\n",
       "      <td>26-10-2020</td>\n",
       "      <td>NaN</td>\n",
       "      <td>NaN</td>\n",
       "      <td>NaN</td>\n",
       "      <td>Mokokchung</td>\n",
       "      <td>Nagaland</td>\n",
       "      <td>Recovered</td>\n",
       "      <td>26.0</td>\n",
       "      <td>10.0</td>\n",
       "      <td>2020.0</td>\n",
       "    </tr>\n",
       "    <tr>\n",
       "      <th>380317</th>\n",
       "      <td>27284</td>\n",
       "      <td>20.0</td>\n",
       "      <td>26-10-2020</td>\n",
       "      <td>NaN</td>\n",
       "      <td>NaN</td>\n",
       "      <td>NaN</td>\n",
       "      <td>Kohima</td>\n",
       "      <td>Nagaland</td>\n",
       "      <td>Recovered</td>\n",
       "      <td>26.0</td>\n",
       "      <td>10.0</td>\n",
       "      <td>2020.0</td>\n",
       "    </tr>\n",
       "    <tr>\n",
       "      <th>380318</th>\n",
       "      <td>27285</td>\n",
       "      <td>29.0</td>\n",
       "      <td>26-10-2020</td>\n",
       "      <td>NaN</td>\n",
       "      <td>NaN</td>\n",
       "      <td>NaN</td>\n",
       "      <td>Dimapur</td>\n",
       "      <td>Nagaland</td>\n",
       "      <td>Recovered</td>\n",
       "      <td>26.0</td>\n",
       "      <td>10.0</td>\n",
       "      <td>2020.0</td>\n",
       "    </tr>\n",
       "  </tbody>\n",
       "</table>\n",
       "<p>380319 rows × 12 columns</p>\n",
       "</div>"
      ],
      "text/plain": [
       "        Unnamed: 0  Num Cases Date Announced Age Bracket Gender  \\\n",
       "0                0        1.0     30-01-2020          20      F   \n",
       "1                1        1.0     02-02-2020         NaN    NaN   \n",
       "2                2        1.0     03-02-2020         NaN    NaN   \n",
       "3                3        1.0     02-03-2020          45      M   \n",
       "4                4        1.0     02-03-2020          24      M   \n",
       "...            ...        ...            ...         ...    ...   \n",
       "380314       27281        2.0     26-10-2020         NaN    NaN   \n",
       "380315       27282        4.0     26-10-2020         NaN    NaN   \n",
       "380316       27283       14.0     26-10-2020         NaN    NaN   \n",
       "380317       27284       20.0     26-10-2020         NaN    NaN   \n",
       "380318       27285       29.0     26-10-2020         NaN    NaN   \n",
       "\n",
       "                   Detected City Detected District Detected State  \\\n",
       "0                       Thrissur          Thrissur         Kerala   \n",
       "1                      Alappuzha         Alappuzha         Kerala   \n",
       "2                      Kasaragod         Kasaragod         Kerala   \n",
       "3       East Delhi (Mayur Vihar)        East Delhi          Delhi   \n",
       "4                      Hyderabad         Hyderabad      Telangana   \n",
       "...                          ...               ...            ...   \n",
       "380314                       NaN           Dimapur       Nagaland   \n",
       "380315                       NaN               Mon       Nagaland   \n",
       "380316                       NaN        Mokokchung       Nagaland   \n",
       "380317                       NaN            Kohima       Nagaland   \n",
       "380318                       NaN           Dimapur       Nagaland   \n",
       "\n",
       "       Current Status   Day  Month    Year  \n",
       "0           Recovered  30.0    1.0  2020.0  \n",
       "1           Recovered   2.0    2.0  2020.0  \n",
       "2           Recovered   3.0    2.0  2020.0  \n",
       "3           Recovered   2.0    3.0  2020.0  \n",
       "4           Recovered   2.0    3.0  2020.0  \n",
       "...               ...   ...    ...     ...  \n",
       "380314       Deceased  26.0   10.0  2020.0  \n",
       "380315      Recovered  26.0   10.0  2020.0  \n",
       "380316      Recovered  26.0   10.0  2020.0  \n",
       "380317      Recovered  26.0   10.0  2020.0  \n",
       "380318      Recovered  26.0   10.0  2020.0  \n",
       "\n",
       "[380319 rows x 12 columns]"
      ]
     },
     "execution_count": 4,
     "metadata": {},
     "output_type": "execute_result"
    }
   ],
   "source": [
    "data=pd.read_csv('C:\\\\Users\\\\Subhajit\\\\Covid19Ind.csv')\n",
    "data"
   ]
  },
  {
   "cell_type": "code",
   "execution_count": 5,
   "metadata": {
    "scrolled": false
   },
   "outputs": [
    {
     "data": {
      "text/plain": [
       "Month  Day \n",
       "3.0    4.0         5.0\n",
       "       5.0         1.0\n",
       "       7.0         2.0\n",
       "       9.0         4.0\n",
       "       10.0        4.0\n",
       "                ...   \n",
       "10.0   22.0    54371.0\n",
       "       23.0    53931.0\n",
       "       24.0    50366.0\n",
       "       25.0    45922.0\n",
       "       26.0    36019.0\n",
       "Name: Num Cases, Length: 235, dtype: float64"
      ]
     },
     "execution_count": 5,
     "metadata": {},
     "output_type": "execute_result"
    }
   ],
   "source": [
    "Day=data[data['Current Status']=='Hospitalized'].groupby(['Month','Day'])['Num Cases'].sum()\n",
    "Day"
   ]
  },
  {
   "cell_type": "code",
   "execution_count": 6,
   "metadata": {},
   "outputs": [
    {
     "data": {
      "text/plain": [
       "array([  0,   1,   2,   3,   4,   5,   6,   7,   8,   9,  10,  11,  12,\n",
       "        13,  14,  15,  16,  17,  18,  19,  20,  21,  22,  23,  24,  25,\n",
       "        26,  27,  28,  29,  30,  31,  32,  33,  34,  35,  36,  37,  38,\n",
       "        39,  40,  41,  42,  43,  44,  45,  46,  47,  48,  49,  50,  51,\n",
       "        52,  53,  54,  55,  56,  57,  58,  59,  60,  61,  62,  63,  64,\n",
       "        65,  66,  67,  68,  69,  70,  71,  72,  73,  74,  75,  76,  77,\n",
       "        78,  79,  80,  81,  82,  83,  84,  85,  86,  87,  88,  89,  90,\n",
       "        91,  92,  93,  94,  95,  96,  97,  98,  99, 100, 101, 102, 103,\n",
       "       104, 105, 106, 107, 108, 109, 110, 111, 112, 113, 114, 115, 116,\n",
       "       117, 118, 119, 120, 121, 122, 123, 124, 125, 126, 127, 128, 129,\n",
       "       130, 131, 132, 133, 134, 135, 136, 137, 138, 139, 140, 141, 142,\n",
       "       143, 144, 145, 146, 147, 148, 149, 150, 151, 152, 153, 154, 155,\n",
       "       156, 157, 158, 159, 160, 161, 162, 163, 164, 165, 166, 167, 168,\n",
       "       169, 170, 171, 172, 173, 174, 175, 176, 177, 178, 179, 180, 181,\n",
       "       182, 183, 184, 185, 186, 187, 188, 189, 190, 191, 192, 193, 194,\n",
       "       195, 196, 197, 198, 199, 200, 201, 202, 203, 204, 205, 206, 207,\n",
       "       208, 209, 210, 211, 212, 213, 214, 215, 216, 217, 218, 219, 220,\n",
       "       221, 222, 223, 224, 225, 226, 227, 228, 229, 230, 231, 232, 233,\n",
       "       234])"
      ]
     },
     "execution_count": 6,
     "metadata": {},
     "output_type": "execute_result"
    }
   ],
   "source": [
    "x=np.arange(len(Day))\n",
    "x"
   ]
  },
  {
   "cell_type": "code",
   "execution_count": 7,
   "metadata": {
    "scrolled": true
   },
   "outputs": [
    {
     "data": {
      "text/plain": [
       "array([5.0000e+00, 1.0000e+00, 2.0000e+00, 4.0000e+00, 4.0000e+00,\n",
       "       8.0000e+00, 4.0000e+00, 6.0000e+00, 1.1000e+01, 8.0000e+00,\n",
       "       1.2000e+01, 1.4000e+01, 2.2000e+01, 2.1000e+01, 5.2000e+01,\n",
       "       6.7000e+01, 5.9000e+01, 8.2000e+01, 6.3000e+01, 7.5000e+01,\n",
       "       5.8000e+01, 1.4000e+02, 1.2300e+02, 1.0600e+02, 1.7800e+02,\n",
       "       3.0600e+02, 4.2300e+02, 4.8500e+02, 5.5600e+02, 5.7600e+02,\n",
       "       6.0600e+02, 4.8500e+02, 5.7000e+02, 5.6300e+02, 8.1200e+02,\n",
       "       8.7000e+02, 8.5300e+02, 7.5800e+02, 1.2430e+03, 1.0310e+03,\n",
       "       8.8400e+02, 1.0610e+03, 9.2200e+02, 1.3700e+03, 1.5790e+03,\n",
       "       1.2390e+03, 1.5370e+03, 1.2920e+03, 1.6670e+03, 1.4080e+03,\n",
       "       1.8350e+03, 1.6070e+03, 1.5680e+03, 1.9020e+03, 1.7050e+03,\n",
       "       1.8020e+03, 2.3960e+03, 2.5640e+03, 2.9520e+03, 3.6560e+03,\n",
       "       2.9710e+03, 3.6020e+03, 3.3440e+03, 3.3390e+03, 3.1750e+03,\n",
       "       4.3110e+03, 3.5920e+03, 3.5620e+03, 3.7260e+03, 3.9910e+03,\n",
       "       3.8080e+03, 4.7940e+03, 5.0490e+03, 4.6280e+03, 6.1540e+03,\n",
       "       5.7200e+03, 6.0230e+03, 6.5360e+03, 6.6650e+03, 7.1110e+03,\n",
       "       6.4140e+03, 5.9070e+03, 7.2460e+03, 7.2540e+03, 8.1380e+03,\n",
       "       8.3640e+03, 8.7890e+03, 7.7230e+03, 8.8120e+03, 9.6890e+03,\n",
       "       9.8470e+03, 9.4720e+03, 1.0408e+04, 1.0882e+04, 8.5360e+03,\n",
       "       9.9810e+03, 1.1156e+04, 1.1135e+04, 1.1306e+04, 1.2039e+04,\n",
       "       1.1404e+04, 1.0032e+04, 1.1085e+04, 1.3108e+04, 1.3829e+04,\n",
       "       1.4740e+04, 1.5918e+04, 1.5151e+04, 1.3560e+04, 1.5656e+04,\n",
       "       1.6868e+04, 1.8205e+04, 1.8255e+04, 2.0142e+04, 1.9610e+04,\n",
       "       1.8339e+04, 1.8256e+04, 1.9429e+04, 2.1947e+04, 2.2718e+04,\n",
       "       2.4018e+04, 2.3942e+04, 2.2500e+04, 2.3145e+04, 2.5561e+04,\n",
       "       2.5790e+04, 2.7749e+04, 2.7757e+04, 2.9106e+04, 2.8178e+04,\n",
       "       2.9917e+04, 3.2607e+04, 3.5468e+04, 3.4824e+04, 3.7411e+04,\n",
       "       4.0235e+04, 3.6806e+04, 3.9170e+04, 4.5601e+04, 4.8443e+04,\n",
       "       4.8888e+04, 5.0072e+04, 4.8932e+04, 4.6484e+04, 4.9631e+04,\n",
       "       5.2479e+04, 5.4968e+04, 5.7486e+04, 5.5117e+04, 5.2672e+04,\n",
       "       5.0489e+04, 5.1282e+04, 5.6626e+04, 6.2170e+04, 6.1455e+04,\n",
       "       6.5156e+04, 6.2117e+04, 5.3016e+04, 6.1252e+04, 6.7066e+04,\n",
       "       6.4141e+04, 6.5610e+04, 6.3986e+04, 5.8096e+04, 5.4298e+04,\n",
       "       6.5024e+04, 6.9196e+04, 6.8518e+04, 6.9029e+04, 7.0067e+04,\n",
       "       6.1749e+04, 5.9696e+04, 6.6873e+04, 7.5995e+04, 7.6827e+04,\n",
       "       7.6657e+04, 7.8479e+04, 7.9461e+04, 6.8766e+04, 7.8168e+04,\n",
       "       8.2865e+04, 8.4159e+04, 8.7107e+04, 9.0606e+04, 9.1725e+04,\n",
       "       7.5015e+04, 8.9855e+04, 9.5536e+04, 9.6762e+04, 9.7655e+04,\n",
       "       9.4414e+04, 9.3220e+04, 8.1909e+04, 9.1097e+04, 9.7860e+04,\n",
       "       9.6787e+04, 9.2973e+04, 9.2574e+04, 8.7395e+04, 7.4493e+04,\n",
       "       8.3362e+04, 8.6703e+04, 8.5921e+04, 8.5717e+04, 8.8759e+04,\n",
       "       8.2770e+04, 6.9669e+04, 8.0500e+04, 8.6748e+04, 8.1785e+04,\n",
       "       7.9885e+04, 7.5479e+04, 7.4770e+04, 6.0130e+04, 7.1869e+04,\n",
       "       7.8809e+04, 7.0798e+04, 7.3305e+04, 7.4418e+04, 6.7789e+04,\n",
       "       5.4262e+04, 6.3717e+04, 6.7811e+04, 6.3441e+04, 6.2304e+04,\n",
       "       6.1893e+04, 5.6519e+04, 4.5506e+04, 5.4348e+04, 5.6264e+04,\n",
       "       5.4371e+04, 5.3931e+04, 5.0366e+04, 4.5922e+04, 3.6019e+04])"
      ]
     },
     "execution_count": 7,
     "metadata": {},
     "output_type": "execute_result"
    }
   ],
   "source": [
    "y=Day.values\n",
    "y"
   ]
  },
  {
   "cell_type": "code",
   "execution_count": 39,
   "metadata": {},
   "outputs": [
    {
     "data": {
      "text/plain": [
       "array([[1.00000000e+00, 0.00000000e+00, 0.00000000e+00, 0.00000000e+00,\n",
       "        0.00000000e+00, 0.00000000e+00],\n",
       "       [1.00000000e+00, 1.00000000e+00, 1.00000000e+00, 1.00000000e+00,\n",
       "        1.00000000e+00, 1.00000000e+00],\n",
       "       [1.00000000e+00, 2.00000000e+00, 4.00000000e+00, 8.00000000e+00,\n",
       "        1.60000000e+01, 3.20000000e+01],\n",
       "       ...,\n",
       "       [1.00000000e+00, 2.32000000e+02, 5.38240000e+04, 1.24871680e+07,\n",
       "        2.89702298e+09, 6.72109330e+11],\n",
       "       [1.00000000e+00, 2.33000000e+02, 5.42890000e+04, 1.26493370e+07,\n",
       "        2.94729552e+09, 6.86719856e+11],\n",
       "       [1.00000000e+00, 2.34000000e+02, 5.47560000e+04, 1.28129040e+07,\n",
       "        2.99821954e+09, 7.01583371e+11]])"
      ]
     },
     "execution_count": 39,
     "metadata": {},
     "output_type": "execute_result"
    }
   ],
   "source": [
    "from sklearn.preprocessing import PolynomialFeatures\n",
    "Poly=PolynomialFeatures(degree=5)\n",
    "X=Poly.fit_transform(x.reshape(-1,1))\n",
    "X\n"
   ]
  },
  {
   "cell_type": "code",
   "execution_count": 40,
   "metadata": {
    "scrolled": true
   },
   "outputs": [
    {
     "data": {
      "text/html": [
       "<div>\n",
       "<style scoped>\n",
       "    .dataframe tbody tr th:only-of-type {\n",
       "        vertical-align: middle;\n",
       "    }\n",
       "\n",
       "    .dataframe tbody tr th {\n",
       "        vertical-align: top;\n",
       "    }\n",
       "\n",
       "    .dataframe thead th {\n",
       "        text-align: right;\n",
       "    }\n",
       "</style>\n",
       "<table border=\"1\" class=\"dataframe\">\n",
       "  <thead>\n",
       "    <tr style=\"text-align: right;\">\n",
       "      <th></th>\n",
       "      <th>0</th>\n",
       "      <th>1</th>\n",
       "      <th>2</th>\n",
       "      <th>3</th>\n",
       "      <th>4</th>\n",
       "      <th>5</th>\n",
       "    </tr>\n",
       "  </thead>\n",
       "  <tbody>\n",
       "    <tr>\n",
       "      <th>0</th>\n",
       "      <td>1.0</td>\n",
       "      <td>0.0</td>\n",
       "      <td>0.0</td>\n",
       "      <td>0.0</td>\n",
       "      <td>0.000000e+00</td>\n",
       "      <td>0.000000e+00</td>\n",
       "    </tr>\n",
       "    <tr>\n",
       "      <th>1</th>\n",
       "      <td>1.0</td>\n",
       "      <td>1.0</td>\n",
       "      <td>1.0</td>\n",
       "      <td>1.0</td>\n",
       "      <td>1.000000e+00</td>\n",
       "      <td>1.000000e+00</td>\n",
       "    </tr>\n",
       "    <tr>\n",
       "      <th>2</th>\n",
       "      <td>1.0</td>\n",
       "      <td>2.0</td>\n",
       "      <td>4.0</td>\n",
       "      <td>8.0</td>\n",
       "      <td>1.600000e+01</td>\n",
       "      <td>3.200000e+01</td>\n",
       "    </tr>\n",
       "    <tr>\n",
       "      <th>3</th>\n",
       "      <td>1.0</td>\n",
       "      <td>3.0</td>\n",
       "      <td>9.0</td>\n",
       "      <td>27.0</td>\n",
       "      <td>8.100000e+01</td>\n",
       "      <td>2.430000e+02</td>\n",
       "    </tr>\n",
       "    <tr>\n",
       "      <th>4</th>\n",
       "      <td>1.0</td>\n",
       "      <td>4.0</td>\n",
       "      <td>16.0</td>\n",
       "      <td>64.0</td>\n",
       "      <td>2.560000e+02</td>\n",
       "      <td>1.024000e+03</td>\n",
       "    </tr>\n",
       "    <tr>\n",
       "      <th>...</th>\n",
       "      <td>...</td>\n",
       "      <td>...</td>\n",
       "      <td>...</td>\n",
       "      <td>...</td>\n",
       "      <td>...</td>\n",
       "      <td>...</td>\n",
       "    </tr>\n",
       "    <tr>\n",
       "      <th>230</th>\n",
       "      <td>1.0</td>\n",
       "      <td>230.0</td>\n",
       "      <td>52900.0</td>\n",
       "      <td>12167000.0</td>\n",
       "      <td>2.798410e+09</td>\n",
       "      <td>6.436343e+11</td>\n",
       "    </tr>\n",
       "    <tr>\n",
       "      <th>231</th>\n",
       "      <td>1.0</td>\n",
       "      <td>231.0</td>\n",
       "      <td>53361.0</td>\n",
       "      <td>12326391.0</td>\n",
       "      <td>2.847396e+09</td>\n",
       "      <td>6.577486e+11</td>\n",
       "    </tr>\n",
       "    <tr>\n",
       "      <th>232</th>\n",
       "      <td>1.0</td>\n",
       "      <td>232.0</td>\n",
       "      <td>53824.0</td>\n",
       "      <td>12487168.0</td>\n",
       "      <td>2.897023e+09</td>\n",
       "      <td>6.721093e+11</td>\n",
       "    </tr>\n",
       "    <tr>\n",
       "      <th>233</th>\n",
       "      <td>1.0</td>\n",
       "      <td>233.0</td>\n",
       "      <td>54289.0</td>\n",
       "      <td>12649337.0</td>\n",
       "      <td>2.947296e+09</td>\n",
       "      <td>6.867199e+11</td>\n",
       "    </tr>\n",
       "    <tr>\n",
       "      <th>234</th>\n",
       "      <td>1.0</td>\n",
       "      <td>234.0</td>\n",
       "      <td>54756.0</td>\n",
       "      <td>12812904.0</td>\n",
       "      <td>2.998220e+09</td>\n",
       "      <td>7.015834e+11</td>\n",
       "    </tr>\n",
       "  </tbody>\n",
       "</table>\n",
       "<p>235 rows × 6 columns</p>\n",
       "</div>"
      ],
      "text/plain": [
       "       0      1        2           3             4             5\n",
       "0    1.0    0.0      0.0         0.0  0.000000e+00  0.000000e+00\n",
       "1    1.0    1.0      1.0         1.0  1.000000e+00  1.000000e+00\n",
       "2    1.0    2.0      4.0         8.0  1.600000e+01  3.200000e+01\n",
       "3    1.0    3.0      9.0        27.0  8.100000e+01  2.430000e+02\n",
       "4    1.0    4.0     16.0        64.0  2.560000e+02  1.024000e+03\n",
       "..   ...    ...      ...         ...           ...           ...\n",
       "230  1.0  230.0  52900.0  12167000.0  2.798410e+09  6.436343e+11\n",
       "231  1.0  231.0  53361.0  12326391.0  2.847396e+09  6.577486e+11\n",
       "232  1.0  232.0  53824.0  12487168.0  2.897023e+09  6.721093e+11\n",
       "233  1.0  233.0  54289.0  12649337.0  2.947296e+09  6.867199e+11\n",
       "234  1.0  234.0  54756.0  12812904.0  2.998220e+09  7.015834e+11\n",
       "\n",
       "[235 rows x 6 columns]"
      ]
     },
     "execution_count": 40,
     "metadata": {},
     "output_type": "execute_result"
    }
   ],
   "source": [
    "pd.DataFrame(X)"
   ]
  },
  {
   "cell_type": "code",
   "execution_count": 41,
   "metadata": {},
   "outputs": [
    {
     "data": {
      "text/plain": [
       "LinearRegression()"
      ]
     },
     "execution_count": 41,
     "metadata": {},
     "output_type": "execute_result"
    }
   ],
   "source": [
    "from sklearn.linear_model import LinearRegression\n",
    "reg=LinearRegression()\n",
    "reg.fit(X,y)"
   ]
  },
  {
   "cell_type": "code",
   "execution_count": 42,
   "metadata": {
    "scrolled": true
   },
   "outputs": [
    {
     "data": {
      "text/plain": [
       "array([ 0.00000000e+00,  2.68381979e+02, -6.35030406e+00,  4.11751170e-02,\n",
       "        2.26021596e-04, -1.25716521e-06])"
      ]
     },
     "execution_count": 42,
     "metadata": {},
     "output_type": "execute_result"
    }
   ],
   "source": [
    "reg.coef_"
   ]
  },
  {
   "cell_type": "code",
   "execution_count": 43,
   "metadata": {},
   "outputs": [
    {
     "data": {
      "text/plain": [
       "-2035.3290146345753"
      ]
     },
     "execution_count": 43,
     "metadata": {},
     "output_type": "execute_result"
    }
   ],
   "source": [
    "reg.intercept_"
   ]
  },
  {
   "cell_type": "code",
   "execution_count": 44,
   "metadata": {},
   "outputs": [
    {
     "data": {
      "text/plain": [
       "array([-2.03532901e+03, -1.77325594e+03, -1.52363330e+03, -1.28620608e+03,\n",
       "       -1.06071418e+03, -8.46892497e+02, -6.44471114e+02, -4.53175447e+02,\n",
       "       -2.72726394e+02, -1.02840480e+02,  5.67699848e+01,  2.06396757e+02,\n",
       "        3.46335511e+02,  4.76885683e+02,  5.98350327e+02,  7.11035959e+02,\n",
       "        8.15252406e+02,  9.11312658e+02,  9.99532716e+02,  1.08023144e+03,\n",
       "        1.15373040e+03,  1.22035373e+03,  1.28042795e+03,  1.33428186e+03,\n",
       "        1.38224636e+03,  1.42465430e+03,  1.46184034e+03,  1.49414078e+03,\n",
       "        1.52189343e+03,  1.54543746e+03,  1.56511323e+03,  1.58126216e+03,\n",
       "        1.59422654e+03,  1.60434945e+03,  1.61197453e+03,  1.61744590e+03,\n",
       "        1.62110794e+03,  1.62330520e+03,  1.62438221e+03,  1.62468335e+03,\n",
       "        1.62455270e+03,  1.62433386e+03,  1.62436983e+03,  1.62500285e+03,\n",
       "        1.62657426e+03,  1.62942431e+03,  1.63389207e+03,  1.64031522e+03,\n",
       "        1.64902993e+03,  1.66037070e+03,  1.67467025e+03,  1.69225927e+03,\n",
       "        1.71346639e+03,  1.73861793e+03,  1.76803782e+03,  1.80204739e+03,\n",
       "        1.84096526e+03,  1.88510720e+03,  1.93478592e+03,  1.99031097e+03,\n",
       "        2.05198858e+03,  2.12012151e+03,  2.19500887e+03,  2.27694600e+03,\n",
       "        2.36622434e+03,  2.46313120e+03,  2.56794970e+03,  2.68095856e+03,\n",
       "        2.80243198e+03,  2.93263946e+03,  3.07184568e+03,  3.22031033e+03,\n",
       "        3.37828797e+03,  3.54602785e+03,  3.72377382e+03,  3.91176412e+03,\n",
       "        4.11023125e+03,  4.31940182e+03,  4.53949640e+03,  4.77072939e+03,\n",
       "        5.01330881e+03,  5.26743621e+03,  5.53330649e+03,  5.81110776e+03,\n",
       "        6.10102118e+03,  6.40322081e+03,  6.71787346e+03,  7.04513856e+03,\n",
       "        7.38516797e+03,  7.73810585e+03,  8.10408853e+03,  8.48324431e+03,\n",
       "        8.87569335e+03,  9.28154753e+03,  9.70091022e+03,  1.01338762e+04,\n",
       "        1.05805316e+04,  1.10409535e+04,  1.15152100e+04,  1.20033599e+04,\n",
       "        1.25054527e+04,  1.30215285e+04,  1.35516176e+04,  1.40957405e+04,\n",
       "        1.46539077e+04,  1.52261197e+04,  1.58123668e+04,  1.64126285e+04,\n",
       "        1.70268743e+04,  1.76550624e+04,  1.82971406e+04,  1.89530455e+04,\n",
       "        1.96227024e+04,  2.03060254e+04,  2.10029173e+04,  2.17132689e+04,\n",
       "        2.24369596e+04,  2.31738567e+04,  2.39238153e+04,  2.46866785e+04,\n",
       "        2.54622769e+04,  2.62504286e+04,  2.70509391e+04,  2.78636009e+04,\n",
       "        2.86881937e+04,  2.95244839e+04,  3.03722247e+04,  3.12311560e+04,\n",
       "        3.21010039e+04,  3.29814808e+04,  3.38722853e+04,  3.47731020e+04,\n",
       "        3.56836012e+04,  3.66034388e+04,  3.75322565e+04,  3.84696810e+04,\n",
       "        3.94153244e+04,  4.03687840e+04,  4.13296417e+04,  4.22974644e+04,\n",
       "        4.32718035e+04,  4.42521947e+04,  4.52381584e+04,  4.62291988e+04,\n",
       "        4.72248043e+04,  4.82244470e+04,  4.92275828e+04,  5.02336512e+04,\n",
       "        5.12420749e+04,  5.22522601e+04,  5.32635959e+04,  5.42754545e+04,\n",
       "        5.52871907e+04,  5.62981421e+04,  5.73076288e+04,  5.83149532e+04,\n",
       "        5.93193998e+04,  6.03202354e+04,  6.13167083e+04,  6.23080489e+04,\n",
       "        6.32934690e+04,  6.42721619e+04,  6.52433022e+04,  6.62060456e+04,\n",
       "        6.71595288e+04,  6.81028693e+04,  6.90351653e+04,  6.99554956e+04,\n",
       "        7.08629192e+04,  7.17564757e+04,  7.26351843e+04,  7.34980445e+04,\n",
       "        7.43440354e+04,  7.51721158e+04,  7.59812239e+04,  7.67702773e+04,\n",
       "        7.75381727e+04,  7.82837860e+04,  7.90059718e+04,  7.97035635e+04,\n",
       "        8.03753729e+04,  8.10201905e+04,  8.16367848e+04,  8.22239027e+04,\n",
       "        8.27802689e+04,  8.33045858e+04,  8.37955338e+04,  8.42517704e+04,\n",
       "        8.46719309e+04,  8.50546274e+04,  8.53984494e+04,  8.57019631e+04,\n",
       "        8.59637115e+04,  8.61822144e+04,  8.63559677e+04,  8.64834440e+04,\n",
       "        8.65630917e+04,  8.65933355e+04,  8.65725758e+04,  8.64991886e+04,\n",
       "        8.63715258e+04,  8.61879144e+04,  8.59466568e+04,  8.56460303e+04,\n",
       "        8.52842874e+04,  8.48596553e+04,  8.43703359e+04,  8.38145055e+04,\n",
       "        8.31903147e+04,  8.24958885e+04,  8.17293258e+04,  8.08886995e+04,\n",
       "        7.99720561e+04,  7.89774157e+04,  7.79027721e+04,  7.67460920e+04,\n",
       "        7.55053156e+04,  7.41783558e+04,  7.27630986e+04,  7.12574025e+04,\n",
       "        6.96590985e+04,  6.79659903e+04,  6.61758534e+04,  6.42864357e+04,\n",
       "        6.22954569e+04,  6.02006086e+04,  5.79995539e+04,  5.56899274e+04,\n",
       "        5.32693351e+04,  5.07353541e+04,  4.80855326e+04,  4.53173896e+04,\n",
       "        4.24284150e+04,  3.94160690e+04,  3.62777824e+04])"
      ]
     },
     "execution_count": 44,
     "metadata": {},
     "output_type": "execute_result"
    }
   ],
   "source": [
    "Yp=reg.predict(X)\n",
    "Yp"
   ]
  },
  {
   "cell_type": "code",
   "execution_count": 45,
   "metadata": {},
   "outputs": [
    {
     "data": {
      "image/png": "[encoded data removed]",
      "text/plain": [
       "<Figure size 432x288 with 1 Axes>"
      ]
     },
     "metadata": {
      "needs_background": "light"
     },
     "output_type": "display_data"
    }
   ],
   "source": [
    "plt.scatter(x,y)\n",
    "plt.plot(x,Yp,color='k')\n",
    "plt.show()"
   ]
  },
  {
   "cell_type": "code",
   "execution_count": 32,
   "metadata": {
    "scrolled": true
   },
   "outputs": [
    {
     "data": {
      "text/plain": [
       "98.26242396560689"
      ]
     },
     "execution_count": 32,
     "metadata": {},
     "output_type": "execute_result"
    }
   ],
   "source": [
    "reg.score(X,y)*100"
   ]
  },
  {
   "cell_type": "code",
   "execution_count": 33,
   "metadata": {
    "scrolled": true
   },
   "outputs": [
    {
     "data": {
      "text/plain": [
       "array([  0,   1,   2,   3,   4,   5,   6,   7,   8,   9,  10,  11,  12,\n",
       "        13,  14,  15,  16,  17,  18,  19,  20,  21,  22,  23,  24,  25,\n",
       "        26,  27,  28,  29,  30,  31,  32,  33,  34,  35,  36,  37,  38,\n",
       "        39,  40,  41,  42,  43,  44,  45,  46,  47,  48,  49,  50,  51,\n",
       "        52,  53,  54,  55,  56,  57,  58,  59,  60,  61,  62,  63,  64,\n",
       "        65,  66,  67,  68,  69,  70,  71,  72,  73,  74,  75,  76,  77,\n",
       "        78,  79,  80,  81,  82,  83,  84,  85,  86,  87,  88,  89,  90,\n",
       "        91,  92,  93,  94,  95,  96,  97,  98,  99, 100, 101, 102, 103,\n",
       "       104, 105, 106, 107, 108, 109, 110, 111, 112, 113, 114, 115, 116,\n",
       "       117, 118, 119, 120, 121, 122, 123, 124, 125, 126, 127, 128, 129,\n",
       "       130, 131, 132, 133, 134, 135, 136, 137, 138, 139, 140, 141, 142,\n",
       "       143, 144, 145, 146, 147, 148, 149, 150, 151, 152, 153, 154, 155,\n",
       "       156, 157, 158, 159, 160, 161, 162, 163, 164, 165, 166, 167, 168,\n",
       "       169, 170, 171, 172, 173, 174, 175, 176, 177, 178, 179, 180, 181,\n",
       "       182, 183, 184, 185, 186, 187, 188, 189, 190, 191, 192, 193, 194,\n",
       "       195, 196, 197, 198, 199, 200, 201, 202, 203, 204, 205, 206, 207,\n",
       "       208, 209, 210, 211, 212, 213, 214, 215, 216, 217, 218, 219, 220,\n",
       "       221, 222, 223, 224, 225, 226, 227, 228, 229, 230, 231, 232, 233,\n",
       "       234])"
      ]
     },
     "execution_count": 33,
     "metadata": {},
     "output_type": "execute_result"
    }
   ],
   "source": [
    "x"
   ]
  },
  {
   "cell_type": "code",
   "execution_count": 46,
   "metadata": {},
   "outputs": [
    {
     "data": {
      "text/plain": [
       "array([33010.95637873])"
      ]
     },
     "execution_count": 46,
     "metadata": {},
     "output_type": "execute_result"
    }
   ],
   "source": [
    "reg.predict(Poly.transform([[235]]))"
   ]
  },
  {
   "cell_type": "code",
   "execution_count": null,
   "metadata": {},
   "outputs": [],
   "source": []
  }
 ],
 "metadata": {
  "kernelspec": {
   "display_name": "Python 3",
   "language": "python",
   "name": "python3"
  },
  "language_info": {
   "codemirror_mode": {
    "name": "ipython",
    "version": 3
   },
   "file_extension": ".py",
   "mimetype": "text/x-python",
   "name": "python",
   "nbconvert_exporter": "python",
   "pygments_lexer": "ipython3",
   "version": "3.8.3"
  }
 },
 "nbformat": 4,
 "nbformat_minor": 4
}
